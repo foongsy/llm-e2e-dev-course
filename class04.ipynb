{
 "cells": [
  {
   "cell_type": "markdown",
   "metadata": {},
   "source": [
    "## [概念0] 如何選取Class\n",
    "\n",
    "Q1: 怎麼去選取Class?\n",
    "\n",
    "當你希望儲存(store)該物件的資料(data)，並作出處理(process)。\n",
    "\n",
    "Q2: Class有什麼特性？\n",
    "* 為眾多個體進行**摘要**和簡化，包括特性(properties)及行動(operations)\n",
    "* **封裝**：將特性和行動的複雜屏敞起，並將內容聚集起來\n",
    "* **繼承**：從另一個class繼承它的特性和行動\n",
    "* **多形**：可以改變從Base Class繼承的內容\n",
    "\n"
   ]
  },
  {
   "cell_type": "markdown",
   "metadata": {},
   "source": [
    "## [概念1] Class Method vs Static Method (and instance Method)"
   ]
  },
  {
   "cell_type": "code",
   "execution_count": 59,
   "metadata": {},
   "outputs": [],
   "source": [
    "class Person:\n",
    "    name : str = \"Adam\"\n",
    "\n",
    "    def __init__(self, name : str) -> None:\n",
    "        self.name = name\n",
    "    \n",
    "    def say_my_name(self) -> None:\n",
    "        print(f\"My name is {self.name}\")\n",
    "\n",
    "    @classmethod\n",
    "    def say_my_name_cm(cls) -> None:\n",
    "        print(f\"[cm] My name is {cls.name}\")\n",
    "\n",
    "    @staticmethod\n",
    "    def say_my_name_sm(p) -> None:\n",
    "        print(f\"[sm] My name is {p.name}\")"
   ]
  },
  {
   "cell_type": "code",
   "execution_count": 60,
   "metadata": {},
   "outputs": [
    {
     "name": "stdout",
     "output_type": "stream",
     "text": [
      "My name is Henry\n",
      "[cm] My name is Adam\n",
      "[cm] My name is Adam\n",
      "[sm] My name is Henry\n"
     ]
    },
    {
     "ename": "TypeError",
     "evalue": "Person.say_my_name() missing 1 required positional argument: 'self'",
     "output_type": "error",
     "traceback": [
      "\u001b[0;31m---------------------------------------------------------------------------\u001b[0m",
      "\u001b[0;31mTypeError\u001b[0m                                 Traceback (most recent call last)",
      "Cell \u001b[0;32mIn[60], line 6\u001b[0m\n\u001b[1;32m      4\u001b[0m Person\u001b[38;5;241m.\u001b[39msay_my_name_cm()\n\u001b[1;32m      5\u001b[0m Person\u001b[38;5;241m.\u001b[39msay_my_name_sm(henry)\n\u001b[0;32m----> 6\u001b[0m \u001b[43mPerson\u001b[49m\u001b[38;5;241;43m.\u001b[39;49m\u001b[43msay_my_name\u001b[49m\u001b[43m(\u001b[49m\u001b[43m)\u001b[49m\n",
      "\u001b[0;31mTypeError\u001b[0m: Person.say_my_name() missing 1 required positional argument: 'self'"
     ]
    }
   ],
   "source": [
    "henry = Person(\"Henry\")\n",
    "henry.say_my_name()\n",
    "henry.say_my_name_cm()\n",
    "Person.say_my_name_cm()\n",
    "Person.say_my_name_sm(henry)\n",
    "Person.say_my_name()"
   ]
  },
  {
   "cell_type": "code",
   "execution_count": 46,
   "metadata": {},
   "outputs": [
    {
     "name": "stdout",
     "output_type": "stream",
     "text": [
      "<class 'function'>\n",
      "<class 'method'>\n",
      "<class 'function'>\n"
     ]
    }
   ],
   "source": [
    "print(type(Person.say_my_name))\n",
    "print(type(Person.say_my_name_cm))\n",
    "print(type(Person.say_my_name_sm))"
   ]
  },
  {
   "cell_type": "code",
   "execution_count": 54,
   "metadata": {},
   "outputs": [],
   "source": [
    "class Robot:\n",
    "    name : str = \"Adam\"\n",
    "\n",
    "    def __init__(self, name : str) -> None:\n",
    "        self.name = name\n",
    "    \n",
    "    def say_my_name(self) -> None:\n",
    "        print(f\"My name is {self.name}\")\n",
    "\n",
    "    @classmethod\n",
    "    def model_e(cls):\n",
    "        return(cls(\"Model E\"))\n",
    "    \n",
    "    @classmethod\n",
    "    def model_d(cls):\n",
    "        return(cls(\"Model D\"))"
   ]
  },
  {
   "cell_type": "code",
   "execution_count": 55,
   "metadata": {},
   "outputs": [],
   "source": [
    "modele = Robot.model_e()\n",
    "modeld = Robot.model_d()"
   ]
  },
  {
   "cell_type": "code",
   "execution_count": 61,
   "metadata": {},
   "outputs": [
    {
     "name": "stdout",
     "output_type": "stream",
     "text": [
      "My name is Model E\n"
     ]
    }
   ],
   "source": [
    "modele.say_my_name()"
   ]
  },
  {
   "cell_type": "markdown",
   "metadata": {},
   "source": [
    "### [概念2] 為什麼init要寫成__init__"
   ]
  },
  {
   "cell_type": "markdown",
   "metadata": {},
   "source": [
    "### Python的魔法function\n",
    "- `__init__`\n",
    "- `__repr__`"
   ]
  },
  {
   "cell_type": "code",
   "execution_count": 62,
   "metadata": {},
   "outputs": [
    {
     "name": "stdout",
     "output_type": "stream",
     "text": [
      "<__main__.Robot object at 0x10c022790>\n"
     ]
    }
   ],
   "source": [
    "print(modeld)"
   ]
  },
  {
   "cell_type": "code",
   "execution_count": 67,
   "metadata": {},
   "outputs": [],
   "source": [
    "class GingRobot(Robot):\n",
    "    def __str__(self):\n",
    "        return(f\"I'm robot {self.name}\")\n",
    "    \n",
    "    def __len__(self):\n",
    "        return(len(self.__str__()))"
   ]
  },
  {
   "cell_type": "code",
   "execution_count": 68,
   "metadata": {},
   "outputs": [],
   "source": [
    "gmodeld = GingRobot.model_d()"
   ]
  },
  {
   "cell_type": "code",
   "execution_count": 69,
   "metadata": {},
   "outputs": [
    {
     "name": "stdout",
     "output_type": "stream",
     "text": [
      "I'm robot Model D\n"
     ]
    }
   ],
   "source": [
    "print(gmodeld)"
   ]
  },
  {
   "cell_type": "code",
   "execution_count": 70,
   "metadata": {},
   "outputs": [
    {
     "data": {
      "text/plain": [
       "17"
      ]
     },
     "execution_count": 70,
     "metadata": {},
     "output_type": "execute_result"
    }
   ],
   "source": [
    "len(gmodeld)"
   ]
  },
  {
   "cell_type": "markdown",
   "metadata": {},
   "source": [
    "## [概念3] 什麼是@function_name\n",
    "\n",
    "在Python的世界，@decorator是一種\"包裝\"的手段，透過不改變function本身而去改變function的行為"
   ]
  },
  {
   "cell_type": "code",
   "execution_count": 73,
   "metadata": {},
   "outputs": [
    {
     "name": "stdout",
     "output_type": "stream",
     "text": [
      "Hello world\n"
     ]
    }
   ],
   "source": [
    "def hello_world():\n",
    "    print(\"Hello world\")\n",
    "\n",
    "hello_world()"
   ]
  },
  {
   "cell_type": "code",
   "execution_count": 75,
   "metadata": {},
   "outputs": [
    {
     "name": "stdout",
     "output_type": "stream",
     "text": [
      "Hello world\n",
      "Hello world\n",
      "Hello world\n",
      "Hello world\n",
      "Hello world\n",
      "Hello world\n",
      "Hello world\n",
      "Hello world\n",
      "Hello world\n",
      "Hello world\n"
     ]
    }
   ],
   "source": [
    "def ten_times(func):\n",
    "    def inner():\n",
    "        for i in range(10):\n",
    "            func()\n",
    "    return inner\n",
    "\n",
    "@ten_times\n",
    "def hello_world():\n",
    "    print(\"Hello world\")\n",
    "\n",
    "hello_world()"
   ]
  },
  {
   "cell_type": "code",
   "execution_count": null,
   "metadata": {},
   "outputs": [],
   "source": []
  }
 ],
 "metadata": {
  "kernelspec": {
   "display_name": "llm-course",
   "language": "python",
   "name": "python3"
  },
  "language_info": {
   "codemirror_mode": {
    "name": "ipython",
    "version": 3
   },
   "file_extension": ".py",
   "mimetype": "text/x-python",
   "name": "python",
   "nbconvert_exporter": "python",
   "pygments_lexer": "ipython3",
   "version": "3.11.8"
  }
 },
 "nbformat": 4,
 "nbformat_minor": 2
}
